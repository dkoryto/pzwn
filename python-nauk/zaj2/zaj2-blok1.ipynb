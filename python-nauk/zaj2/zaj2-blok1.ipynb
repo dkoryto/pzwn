{
 "metadata": {
  "celltoolbar": "Slideshow",
  "name": "",
  "signature": "sha256:6b2b041d9071e374139042adff16dc05a627ce5d16c42fb2e4163318b0139639"
 },
 "nbformat": 3,
 "nbformat_minor": 0,
 "worksheets": [
  {
   "cells": [
    {
     "cell_type": "heading",
     "level": 1,
     "metadata": {
      "slideshow": {
       "slide_type": "slide"
      }
     },
     "source": [
      "Python --- doko\u0144czenie tematu"
     ]
    },
    {
     "cell_type": "heading",
     "level": 2,
     "metadata": {
      "slideshow": {
       "slide_type": "slide"
      }
     },
     "source": [
      "Variable arguments"
     ]
    },
    {
     "cell_type": "markdown",
     "metadata": {
      "slideshow": {
       "slide_type": "fragment"
      }
     },
     "source": [
      "W pythonie mo\u017cna tworzy\u0107\u00a0funkcjie przyjmuj\u0105ce dowoln\u0105\u00a0list\u0119 argument\u00f3w. Zaznacza si\u0119\u00a0to oznaczaj\u0105c argument gwiazdk\u0105.\n",
      "\n",
      "Nie jest to jako\u015b mega-wa\u017cny temat, ale poniewa\u017c na pewno spotkacie taki kod, a relatywnie trudno to wygoogla\u0107 my\u015bl\u0119 \u017ce warto przedstawi\u0107 temat"
     ]
    },
    {
     "cell_type": "code",
     "collapsed": false,
     "input": [
      "def varargs_test(*args): # Przyjmuje dowoln\u0105\u00a0liczb\u0119\u00a0argument\u00f3w\n",
      "    return args"
     ],
     "language": "python",
     "metadata": {
      "slideshow": {
       "slide_type": "fragment"
      }
     },
     "outputs": [],
     "prompt_number": 1
    },
    {
     "cell_type": "code",
     "collapsed": false,
     "input": [
      "type(varargs_test(1, 2, \"kotek\")) # Wszystkie argumenty b\u0119d\u0105 spakowane do krotki."
     ],
     "language": "python",
     "metadata": {
      "slideshow": {
       "slide_type": "fragment"
      }
     },
     "outputs": [
      {
       "metadata": {},
       "output_type": "pyout",
       "prompt_number": 2,
       "text": [
        "tuple"
       ]
      }
     ],
     "prompt_number": 2
    },
    {
     "cell_type": "code",
     "collapsed": false,
     "input": [
      "varargs_test(1, 2, \"kotek\") "
     ],
     "language": "python",
     "metadata": {
      "slideshow": {
       "slide_type": "fragment"
      }
     },
     "outputs": [
      {
       "metadata": {},
       "output_type": "pyout",
       "prompt_number": 3,
       "text": [
        "(1, 2, 'kotek')"
       ]
      }
     ],
     "prompt_number": 3
    },
    {
     "cell_type": "heading",
     "level": 2,
     "metadata": {
      "slideshow": {
       "slide_type": "slide"
      }
     },
     "source": [
      "Variable arguments"
     ]
    },
    {
     "cell_type": "markdown",
     "metadata": {
      "slideshow": {
       "slide_type": "fragment"
      }
     },
     "source": [
      "Bardziej kompletny przyk\u0142ad:"
     ]
    },
    {
     "cell_type": "code",
     "collapsed": false,
     "input": [
      "def sum(*args): # *oznacza dowoln\u0105 ilo\u015b\u0107 argument\u00f3w\n",
      "    result = 0\n",
      "    for a in args: \n",
      "        result+=a\n",
      "    return result"
     ],
     "language": "python",
     "metadata": {
      "slideshow": {
       "slide_type": "fragment"
      }
     },
     "outputs": [],
     "prompt_number": 4
    },
    {
     "cell_type": "code",
     "collapsed": false,
     "input": [
      "sum(1, 2, 3, 4, 5, 6, 7, 8, 9)"
     ],
     "language": "python",
     "metadata": {
      "slideshow": {
       "slide_type": "fragment"
      }
     },
     "outputs": [
      {
       "metadata": {},
       "output_type": "pyout",
       "prompt_number": 5,
       "text": [
        "45"
       ]
      }
     ],
     "prompt_number": 5
    },
    {
     "cell_type": "markdown",
     "metadata": {
      "slideshow": {
       "slide_type": "fragment"
      }
     },
     "source": [
      "Rozpakowywanie argument\u00f3w"
     ]
    },
    {
     "cell_type": "code",
     "collapsed": false,
     "input": [
      "sum(*range(10)) # Mo\u017cna Pythonowi kaza\u0107\u00a0\"rozpakowa\u0107\" dowoln\u0105 iterable "
     ],
     "language": "python",
     "metadata": {
      "slideshow": {
       "slide_type": "fragment"
      }
     },
     "outputs": [
      {
       "metadata": {},
       "output_type": "pyout",
       "prompt_number": 6,
       "text": [
        "45"
       ]
      }
     ],
     "prompt_number": 6
    },
    {
     "cell_type": "markdown",
     "metadata": {
      "slideshow": {
       "slide_type": "fragment"
      }
     },
     "source": [
      "Powy\u017cszy przyklad oznacza: \n",
      "    \n",
      "> Drogi interpreterze mam t\u0105\u00a0ten obiekt, kt\u00f3ry zawiera \n",
      "> argumenty pozycyjne. Spr\u00f3buj je dopasowa\u0107 do funkcji\n",
      "> i wykonaj t\u0105 funkcj\u0119"
     ]
    },
    {
     "cell_type": "code",
     "collapsed": false,
     "input": [
      "def test(a, b, c): \n",
      "    print (a, c)"
     ],
     "language": "python",
     "metadata": {
      "slideshow": {
       "slide_type": "fragment"
      }
     },
     "outputs": [],
     "prompt_number": 7
    },
    {
     "cell_type": "code",
     "collapsed": false,
     "input": [
      "krotka = 'a', 'b', 'c'\n",
      "test(*krotka) # Dzia\u0142\u0105 to te\u017c\u00a0dla funkcji kt\u00f3re nie s\u0105 varargsowe"
     ],
     "language": "python",
     "metadata": {
      "slideshow": {
       "slide_type": "fragment"
      }
     },
     "outputs": [
      {
       "output_type": "stream",
       "stream": "stdout",
       "text": [
        "a c\n"
       ]
      }
     ],
     "prompt_number": 8
    },
    {
     "cell_type": "code",
     "collapsed": false,
     "input": [
      "krotka = 'a', 'b'\n",
      "test(*krotka) # Ale w tym przypadku trzeba poda\u0107 prawid\u0142ow\u0105 liczb\u0119 argument\u00f3w! "
     ],
     "language": "python",
     "metadata": {
      "slideshow": {
       "slide_type": "fragment"
      }
     },
     "outputs": [
      {
       "ename": "TypeError",
       "evalue": "test() missing 1 required positional argument: 'c'",
       "output_type": "pyerr",
       "traceback": [
        "\u001b[1;31m---------------------------------------------------------------------------\u001b[0m\n\u001b[1;31mTypeError\u001b[0m                                 Traceback (most recent call last)",
        "\u001b[1;32m<ipython-input-9-6ccca4783d2a>\u001b[0m in \u001b[0;36m<module>\u001b[1;34m()\u001b[0m\n\u001b[0;32m      1\u001b[0m \u001b[0mkrotka\u001b[0m \u001b[1;33m=\u001b[0m \u001b[1;34m'a'\u001b[0m\u001b[1;33m,\u001b[0m \u001b[1;34m'b'\u001b[0m\u001b[1;33m\u001b[0m\u001b[0m\n\u001b[1;32m----> 2\u001b[1;33m \u001b[0mtest\u001b[0m\u001b[1;33m(\u001b[0m\u001b[1;33m*\u001b[0m\u001b[0mkrotka\u001b[0m\u001b[1;33m)\u001b[0m \u001b[1;31m# Ale w tym przypadku trzeba poda\u0107 prawid\u0142ow\u0105 liczb\u0119 argument\u00f3w!\u001b[0m\u001b[1;33m\u001b[0m\u001b[0m\n\u001b[0m",
        "\u001b[1;31mTypeError\u001b[0m: test() missing 1 required positional argument: 'c'"
       ]
      }
     ],
     "prompt_number": 9
    },
    {
     "cell_type": "heading",
     "level": 2,
     "metadata": {
      "slideshow": {
       "slide_type": "subslide"
      }
     },
     "source": [
      "Variable arguments"
     ]
    },
    {
     "cell_type": "markdown",
     "metadata": {},
     "source": [
      "Varargs mog\u0105 koegzystowa\u0107 z keyword arguments:"
     ]
    },
    {
     "cell_type": "code",
     "collapsed": false,
     "input": [
      "from operator import add, mul\n",
      "\n",
      "def reduce(*args, op=add, zero=0): \n",
      "    for a in args:\n",
      "        zero = op(zero, a)\n",
      "    return zero"
     ],
     "language": "python",
     "metadata": {
      "slideshow": {
       "slide_type": "fragment"
      }
     },
     "outputs": [],
     "prompt_number": 10
    },
    {
     "cell_type": "code",
     "collapsed": false,
     "input": [
      "reduce(*range(1, 10), zero=1, op=mul)"
     ],
     "language": "python",
     "metadata": {
      "slideshow": {
       "slide_type": "fragment"
      }
     },
     "outputs": [
      {
       "metadata": {},
       "output_type": "pyout",
       "prompt_number": 11,
       "text": [
        "362880"
       ]
      }
     ],
     "prompt_number": 11
    },
    {
     "cell_type": "heading",
     "level": 2,
     "metadata": {
      "slideshow": {
       "slide_type": "slide"
      }
     },
     "source": [
      "Variable keyword arguments"
     ]
    },
    {
     "cell_type": "markdown",
     "metadata": {
      "slideshow": {
       "slide_type": "fragment"
      }
     },
     "source": [
      "Mo\u017cna te\u017c przekaza\u0107 dowoln\u0105 liczb\u0119 keyword-arguments"
     ]
    },
    {
     "cell_type": "code",
     "collapsed": false,
     "input": [
      "def func(**kwargs):\n",
      "    return kwargs"
     ],
     "language": "python",
     "metadata": {
      "slideshow": {
       "slide_type": "subslide"
      }
     },
     "outputs": [],
     "prompt_number": 12
    },
    {
     "cell_type": "code",
     "collapsed": false,
     "input": [
      "func(a=1, b=2, c=10) # S\u0105 one przekazywane jako s\u0142ownik"
     ],
     "language": "python",
     "metadata": {
      "slideshow": {
       "slide_type": "fragment"
      }
     },
     "outputs": [
      {
       "metadata": {},
       "output_type": "pyout",
       "prompt_number": 13,
       "text": [
        "{'b': 2, 'c': 10, 'a': 1}"
       ]
      }
     ],
     "prompt_number": 13
    },
    {
     "cell_type": "code",
     "collapsed": false,
     "input": [
      "type(func())"
     ],
     "language": "python",
     "metadata": {
      "slideshow": {
       "slide_type": "fragment"
      }
     },
     "outputs": [
      {
       "metadata": {},
       "output_type": "pyout",
       "prompt_number": 14,
       "text": [
        "dict"
       ]
      }
     ],
     "prompt_number": 14
    },
    {
     "cell_type": "code",
     "collapsed": false,
     "input": [
      "dict = {'b': 2, 'a': 1, 'c': 10}"
     ],
     "language": "python",
     "metadata": {
      "slideshow": {
       "slide_type": "fragment"
      }
     },
     "outputs": [],
     "prompt_number": 15
    },
    {
     "cell_type": "code",
     "collapsed": false,
     "input": [
      "func(**dict) # Mam nadziej\u0119 \u017ce zgadli\u015bcie \u017ce tak mo\u017cna!"
     ],
     "language": "python",
     "metadata": {
      "slideshow": {
       "slide_type": "fragment"
      }
     },
     "outputs": [
      {
       "metadata": {},
       "output_type": "pyout",
       "prompt_number": 16,
       "text": [
        "{'a': 1, 'b': 2, 'c': 10}"
       ]
      }
     ],
     "prompt_number": 16
    },
    {
     "cell_type": "heading",
     "level": 3,
     "metadata": {
      "slideshow": {
       "slide_type": "slide"
      }
     },
     "source": [
      "List comprehensions"
     ]
    },
    {
     "cell_type": "markdown",
     "metadata": {
      "slideshow": {
       "slide_type": "fragment"
      }
     },
     "source": [
      "Mamy list\u0119 A zawieraj\u0105c\u0105\u00a0jakie\u015b obiekty, chcemy stworzy\u0107 inn\u0105 list\u0119, kt\u00f3ra zawiera elementy w jaki\u015b\u00a0spos\u00f3b wyznaczane z A. \n",
      "\n",
      "Na przyk\u0142ad mamy list\u0119\u00a0zwierz\u0105t a chcemy mie\u0107 list\u0119 ich imion."
     ]
    },
    {
     "cell_type": "code",
     "collapsed": false,
     "input": [
      "zoo = [\n",
      "    {\n",
      "        \"typ\": \"lis\",\n",
      "        \"imie\": \"Vitalis\",\n",
      "        \"masa\": (5, 'kg')\n",
      "    }, \n",
      "    {\n",
      "        \"typ\": \"mi\u015b\",\n",
      "        \"imie\": \"Koralgol\",\n",
      "        \"masa\": (5, 'kg')\n",
      "    }, \n",
      "    {\n",
      "        \"typ\": \"wiewi\u00f3rka\",\n",
      "        \"imie\": \"Chip\",\n",
      "        \"masa\": (5, 'g')\n",
      "    }, \n",
      "    {\n",
      "        \"typ\": \"mi\u015b\",\n",
      "        \"imie\": \"Puchatek\",\n",
      "        \"masa\": (50, 'kg')\n",
      "    }, \n",
      "]"
     ],
     "language": "python",
     "metadata": {
      "slideshow": {
       "slide_type": "fragment"
      }
     },
     "outputs": [],
     "prompt_number": 17
    },
    {
     "cell_type": "heading",
     "level": 2,
     "metadata": {
      "slideshow": {
       "slide_type": "slide"
      }
     },
     "source": [
      "List comprehensions"
     ]
    },
    {
     "cell_type": "code",
     "collapsed": false,
     "input": [
      "imiona = []\n",
      "for z in zoo: \n",
      "    imiona.append(z['imie'])"
     ],
     "language": "python",
     "metadata": {
      "slideshow": {
       "slide_type": "fragment"
      }
     },
     "outputs": [],
     "prompt_number": 18
    },
    {
     "cell_type": "code",
     "collapsed": false,
     "input": [
      "imiona"
     ],
     "language": "python",
     "metadata": {
      "slideshow": {
       "slide_type": "fragment"
      }
     },
     "outputs": [
      {
       "metadata": {},
       "output_type": "pyout",
       "prompt_number": 19,
       "text": [
        "['Vitalis', 'Koralgol', 'Chip', 'Puchatek']"
       ]
      }
     ],
     "prompt_number": 19
    },
    {
     "cell_type": "markdown",
     "metadata": {},
     "source": [
      "List comprehensions s\u0105\u00a0\u0142adniejsz\u0105 metod\u0105 na zrobienie powy\u017cszej operacji"
     ]
    },
    {
     "cell_type": "code",
     "collapsed": false,
     "input": [
      "imiona_compr = [z['imie'] for z in zoo]"
     ],
     "language": "python",
     "metadata": {
      "slideshow": {
       "slide_type": "fragment"
      }
     },
     "outputs": [],
     "prompt_number": 20
    },
    {
     "cell_type": "code",
     "collapsed": false,
     "input": [
      "imiona_compr"
     ],
     "language": "python",
     "metadata": {
      "slideshow": {
       "slide_type": "fragment"
      }
     },
     "outputs": [
      {
       "metadata": {},
       "output_type": "pyout",
       "prompt_number": 21,
       "text": [
        "['Vitalis', 'Koralgol', 'Chip', 'Puchatek']"
       ]
      }
     ],
     "prompt_number": 21
    },
    {
     "cell_type": "heading",
     "level": 2,
     "metadata": {
      "slideshow": {
       "slide_type": "slide"
      }
     },
     "source": [
      "List comprehensions"
     ]
    },
    {
     "cell_type": "code",
     "collapsed": false,
     "input": [
      "imiona_misiow = [z['imie'] for z in zoo if z['typ']=='mi\u015b']"
     ],
     "language": "python",
     "metadata": {
      "slideshow": {
       "slide_type": "fragment"
      }
     },
     "outputs": [],
     "prompt_number": 22
    },
    {
     "cell_type": "code",
     "collapsed": false,
     "input": [
      "imiona_misiow"
     ],
     "language": "python",
     "metadata": {
      "slideshow": {
       "slide_type": "fragment"
      }
     },
     "outputs": [
      {
       "metadata": {},
       "output_type": "pyout",
       "prompt_number": 23,
       "text": [
        "['Koralgol', 'Puchatek']"
       ]
      }
     ],
     "prompt_number": 23
    },
    {
     "cell_type": "heading",
     "level": 1,
     "metadata": {},
     "source": [
      "Set comprehensions"
     ]
    },
    {
     "cell_type": "markdown",
     "metadata": {
      "slideshow": {
       "slide_type": "slide"
      }
     },
     "source": [
      "Jak list comprehensions"
     ]
    },
    {
     "cell_type": "code",
     "collapsed": false,
     "input": [
      "typy_zwierzat = {z['typ'] for z in zoo}"
     ],
     "language": "python",
     "metadata": {
      "slideshow": {
       "slide_type": "fragment"
      }
     },
     "outputs": [],
     "prompt_number": 24
    },
    {
     "cell_type": "code",
     "collapsed": false,
     "input": [
      "typy_zwierzat"
     ],
     "language": "python",
     "metadata": {
      "slideshow": {
       "slide_type": "fragment"
      }
     },
     "outputs": [
      {
       "metadata": {},
       "output_type": "pyout",
       "prompt_number": 25,
       "text": [
        "{'lis', 'mi\u015b', 'wiewi\u00f3rka'}"
       ]
      }
     ],
     "prompt_number": 25
    },
    {
     "cell_type": "heading",
     "level": 2,
     "metadata": {
      "slideshow": {
       "slide_type": "slide"
      }
     },
     "source": [
      "Dictionary comprehensions"
     ]
    },
    {
     "cell_type": "code",
     "collapsed": false,
     "input": [
      "imie_typ = {z['imie']:z['typ'] for z in zoo}"
     ],
     "language": "python",
     "metadata": {
      "slideshow": {
       "slide_type": "fragment"
      }
     },
     "outputs": [],
     "prompt_number": 26
    },
    {
     "cell_type": "code",
     "collapsed": false,
     "input": [
      "imie_typ['Koralgol']"
     ],
     "language": "python",
     "metadata": {
      "slideshow": {
       "slide_type": "fragment"
      }
     },
     "outputs": [
      {
       "metadata": {},
       "output_type": "pyout",
       "prompt_number": 27,
       "text": [
        "'mi\u015b'"
       ]
      }
     ],
     "prompt_number": 27
    },
    {
     "cell_type": "heading",
     "level": 2,
     "metadata": {
      "slideshow": {
       "slide_type": "slide"
      }
     },
     "source": [
      "Generator comprehensions"
     ]
    },
    {
     "cell_type": "markdown",
     "metadata": {
      "slideshow": {
       "slide_type": "fragment"
      }
     },
     "source": [
      "Wszystkie comprehensions do tej pory tworzy\u0142y **kopie** danych. Nie jest to problem je\u015bli danych jest kilkadziesi\u0105t mb. Je\u015bli jest ich wi\u0119cej mo\u017ce powodowa\u0107 to spadek wydajno\u015bci systemu. "
     ]
    },
    {
     "cell_type": "code",
     "collapsed": false,
     "input": [
      "import random\n",
      "\n",
      "IMIONA = [\n",
      "    'Kubu\u015b', 'Prosiaczek', 'Tygrysek', \"Kangurzyca\", 'Kangurz\u0105tko', 'Kr\u00f3lik', 'Sowa', 'Koralgol', 'Chip', 'Dales',\n",
      "    'Dumbo'\n",
      "]\n",
      "\n",
      "RODZAJE = [\n",
      "    'mi\u015b', '\u015bwinia', 'tygrys', 'kangur', 'go\u0142\u0105b', 'wiewi\u00f3rka', 's\u0142o\u0144'\n",
      "]\n",
      "\n",
      "def random_animal():\n",
      "    return {        \n",
      "        'imie': random.choice(IMIONA), \n",
      "        'typ': random.choice(RODZAJE),\n",
      "        'masa': (random.uniform(0, 10), 'kg')\n",
      "    }"
     ],
     "language": "python",
     "metadata": {
      "slideshow": {
       "slide_type": "fragment"
      }
     },
     "outputs": [],
     "prompt_number": 28
    },
    {
     "cell_type": "code",
     "collapsed": false,
     "input": [
      "random_animal()"
     ],
     "language": "python",
     "metadata": {
      "slideshow": {
       "slide_type": "fragment"
      }
     },
     "outputs": [
      {
       "metadata": {},
       "output_type": "pyout",
       "prompt_number": 29,
       "text": [
        "{'masa': (2.8501317356367952, 'kg'), 'imie': 'Tygrysek', 'typ': 'go\u0142\u0105b'}"
       ]
      }
     ],
     "prompt_number": 29
    },
    {
     "cell_type": "code",
     "collapsed": false,
     "input": [
      "DATA = [random_animal() for ii in range(int(1E7))] #Miliard zwierz\u0105tek"
     ],
     "language": "python",
     "metadata": {
      "slideshow": {
       "slide_type": "fragment"
      }
     },
     "outputs": [],
     "prompt_number": 31
    },
    {
     "cell_type": "code",
     "collapsed": false,
     "input": [
      "import pickle\n",
      "len(pickle.dumps(DATA)) / (1024*1024)"
     ],
     "language": "python",
     "metadata": {
      "slideshow": {
       "slide_type": "fragment"
      }
     },
     "outputs": [
      {
       "metadata": {},
       "output_type": "pyout",
       "prompt_number": 33,
       "text": [
        "333.8046598434448"
       ]
      }
     ],
     "prompt_number": 33
    },
    {
     "cell_type": "markdown",
     "metadata": {
      "slideshow": {
       "slide_type": "fragment"
      }
     },
     "source": [
      "Jakie\u015b\u00a0250 MB danych o zwierz\u0105tkach"
     ]
    },
    {
     "cell_type": "heading",
     "level": 2,
     "metadata": {
      "slideshow": {
       "slide_type": "slide"
      }
     },
     "source": [
      "Generator comprehensions"
     ]
    },
    {
     "cell_type": "markdown",
     "metadata": {
      "slideshow": {
       "slide_type": "fragment"
      }
     },
     "source": [
      "Mamy du\u017c\u0105\u00a0ilo\u015b\u0107 danych o zwierz\u0105tkach, powiedzmy \u017ce chcemy zobaczy\u0107 jaka jest \u015brednia masa zwierz\u0105tka. Mo\u017cemy to zrobi\u0107\u00a0za pomoc\u0105 p\u0119tli ``for``:"
     ]
    },
    {
     "cell_type": "code",
     "collapsed": false,
     "input": [
      "sum = 0\n",
      "for z in DATA: \n",
      "    sum+=z['masa'][0]\n",
      "result = sum/len(DATA)\n",
      "result"
     ],
     "language": "python",
     "metadata": {
      "slideshow": {
       "slide_type": "fragment"
      }
     },
     "outputs": [
      {
       "metadata": {},
       "output_type": "pyout",
       "prompt_number": 51,
       "text": [
        "5.002792755340718"
       ]
      }
     ],
     "prompt_number": 51
    },
    {
     "cell_type": "markdown",
     "metadata": {},
     "source": [
      "Mo\u017cna by\u0142oby zrobi\u0107 to za pomoc\u0105 list comprehension: "
     ]
    },
    {
     "cell_type": "code",
     "collapsed": false,
     "input": [
      "del sum # Sum nie jest s\u0142owem kluczowym a funkcj\u0105 wbudowan\u0105\n",
      "# Jej nazw\u0119 mo\u017cna przykry\u0107 (jak w tym przykk\u0142adzie przykrywa j\u0105 zmienna sum z \n",
      "# przyk\u0142adu wy\u017cej)"
     ],
     "language": "python",
     "metadata": {},
     "outputs": [],
     "prompt_number": 42
    },
    {
     "cell_type": "code",
     "collapsed": false,
     "input": [
      "result_list = sum([z['masa'][0] for z in DATA])/len(DATA)"
     ],
     "language": "python",
     "metadata": {},
     "outputs": [],
     "prompt_number": 43
    },
    {
     "cell_type": "markdown",
     "metadata": {},
     "source": [
      "Ale lepiej tak: "
     ]
    },
    {
     "cell_type": "code",
     "collapsed": false,
     "input": [
      "result_gen = sum((z['masa'][0] for z in DATA))"
     ],
     "language": "python",
     "metadata": {},
     "outputs": [
      {
       "output_type": "stream",
       "stream": "stdout",
       "text": [
        "1 loops, best of 10: 799 ms per loop\n"
       ]
      }
     ],
     "prompt_number": 46
    },
    {
     "cell_type": "heading",
     "level": 2,
     "metadata": {
      "slideshow": {
       "slide_type": "slide"
      }
     },
     "source": [
      "Czas\u00f3wki "
     ]
    },
    {
     "cell_type": "code",
     "collapsed": false,
     "input": [
      "%%timeit -r 10\n",
      "sum = 0\n",
      "for z in DATA: \n",
      "    sum+=z['masa'][0]\n",
      "result = sum/len(DATA)"
     ],
     "language": "python",
     "metadata": {},
     "outputs": [
      {
       "output_type": "stream",
       "stream": "stdout",
       "text": [
        "1 loops, best of 10: 657 ms per loop\n"
       ]
      }
     ],
     "prompt_number": 48
    },
    {
     "cell_type": "code",
     "collapsed": false,
     "input": [
      "%%timeit -r 10\n",
      "result_list = sum([z['masa'][0] for z in DATA])/len(DATA)"
     ],
     "language": "python",
     "metadata": {},
     "outputs": [
      {
       "output_type": "stream",
       "stream": "stdout",
       "text": [
        "1 loops, best of 10: 697 ms per loop\n"
       ]
      }
     ],
     "prompt_number": 49
    },
    {
     "cell_type": "code",
     "collapsed": false,
     "input": [
      "%%timeit -r 10\n",
      "result_gen = sum((z['masa'][0] for z in DATA))"
     ],
     "language": "python",
     "metadata": {},
     "outputs": [
      {
       "output_type": "stream",
       "stream": "stdout",
       "text": [
        "1 loops, best of 10: 794 ms per loop\n"
       ]
      }
     ],
     "prompt_number": 50
    },
    {
     "cell_type": "heading",
     "level": 1,
     "metadata": {
      "slideshow": {
       "slide_type": "slide"
      }
     },
     "source": [
      "Generator function"
     ]
    },
    {
     "cell_type": "markdown",
     "metadata": {
      "slideshow": {
       "slide_type": "fragment"
      }
     },
     "source": [
      "Utrudnijmy sobie \u017cycie dodaj\u0105c jednostk\u0119\u00a0do masy zwierz\u0105tka"
     ]
    },
    {
     "cell_type": "code",
     "collapsed": false,
     "input": [
      "import random\n",
      "\n",
      "IMIONA = [\n",
      "    'Kubu\u015b', 'Prosiaczek', 'Tygrysek', \"Kangurzyca\", 'Kangurz\u0105tko', 'Kr\u00f3lik', 'Sowa', 'Koralgol', 'Chip', 'Dales',\n",
      "    'Dumbo'\n",
      "]\n",
      "\n",
      "RODZAJE = [\n",
      "    'mi\u015b', '\u015bwinia', 'tygrys', 'kangur', 'go\u0142\u0105b', 'wiewi\u00f3rka', 's\u0142o\u0144'\n",
      "]\n",
      "\n",
      "MASY = [\n",
      "    'mg', 'g', 'kg', 'Mg'\n",
      "]\n",
      "\n",
      "def random_animal():\n",
      "    return {        \n",
      "        'imie': random.choice(IMIONA), \n",
      "        'typ': random.choice(RODZAJE),\n",
      "        'masa': (random.uniform(0, 10), random.choice(MASY))\n",
      "    }"
     ],
     "language": "python",
     "metadata": {
      "slideshow": {
       "slide_type": "fragment"
      }
     },
     "outputs": [],
     "prompt_number": 52
    },
    {
     "cell_type": "code",
     "collapsed": false,
     "input": [
      "random_animal()"
     ],
     "language": "python",
     "metadata": {
      "slideshow": {
       "slide_type": "fragment"
      }
     },
     "outputs": [
      {
       "metadata": {},
       "output_type": "pyout",
       "prompt_number": 53,
       "text": [
        "{'masa': (7.6230446990044864, 'Mg'), 'imie': 'Prosiaczek', 'typ': 'wiewi\u00f3rka'}"
       ]
      }
     ],
     "prompt_number": 53
    },
    {
     "cell_type": "code",
     "collapsed": false,
     "input": [
      "DATA2 = [random_animal() for ii in range(int(1E7))] #Miliard zwierz\u0105tek"
     ],
     "language": "python",
     "metadata": {
      "slideshow": {
       "slide_type": "fragment"
      }
     },
     "outputs": [],
     "prompt_number": 54
    },
    {
     "cell_type": "heading",
     "level": 2,
     "metadata": {},
     "source": [
      "Generator function"
     ]
    },
    {
     "cell_type": "markdown",
     "metadata": {},
     "source": [
      "Chcia\u0142bym (jak ostatnio) wyznaczy\u0107 \u015bredni\u0105 mas\u0119 zwierz\u0105tek w moim zoo, ale tym razem obliczenie masy zwierz\u0105tka jest trudne. \n",
      "Jak ostatnio chcia\u0142bym mie\u0107 iterabl\u0119 kt\u00f3ra zwraca mi mas\u0119 zwierz\u0105tka w kilogramach. "
     ]
    },
    {
     "cell_type": "code",
     "collapsed": false,
     "input": [
      "def mass_generator(data): \n",
      "    for d in data: \n",
      "        mass, unit = d['masa']\n",
      "        if unit == 'kg': \n",
      "            yield mass\n",
      "        if unit == 'g':\n",
      "            yield mass/1000\n",
      "        if unit == 'mg':\n",
      "            yield mass/1E-6\n",
      "        if unit == 'Mg': \n",
      "            yield mass*1000"
     ],
     "language": "python",
     "metadata": {},
     "outputs": [],
     "prompt_number": 59
    },
    {
     "cell_type": "code",
     "collapsed": false,
     "input": [
      "sum(mass_generator(DATA2))/len(DATA2)"
     ],
     "language": "python",
     "metadata": {},
     "outputs": [
      {
       "metadata": {},
       "output_type": "pyout",
       "prompt_number": 61,
       "text": [
        "1251307.6444243533"
       ]
      }
     ],
     "prompt_number": 61
    },
    {
     "cell_type": "code",
     "collapsed": false,
     "input": [
      "%%timeit \n",
      "sum(mass_generator(DATA2))/len(DATA2)"
     ],
     "language": "python",
     "metadata": {},
     "outputs": [
      {
       "output_type": "stream",
       "stream": "stdout",
       "text": [
        "1 loops, best of 3: 2.32 s per loop\n"
       ]
      }
     ],
     "prompt_number": 62
    },
    {
     "cell_type": "heading",
     "level": 1,
     "metadata": {},
     "source": [
      "Generator function"
     ]
    },
    {
     "cell_type": "markdown",
     "metadata": {},
     "source": [
      "Zatem co w\u0142a\u015bciwie si\u0119\u00a0sta\u0142o? Ot\u00f3\u017c\u00a0funkcja kt\u00f3ra zawiera s\u0142owo ``yield`` zwraca generator, kt\u00f3ry zwraca kolejne warto\u015bci kt\u00f3re pokazuj\u0105 si\u0119\u00a0po kolejnych wywo\u0142aniach yield. Taka funkcja nie zwraca jednej warto\u015bci a ich ci\u0105g. "
     ]
    },
    {
     "cell_type": "code",
     "collapsed": false,
     "input": [
      "print(list(zip(range(10), mass_generator(DATA2))))"
     ],
     "language": "python",
     "metadata": {},
     "outputs": [
      {
       "output_type": "stream",
       "stream": "stdout",
       "text": [
        "[(0, 4.88518552601323), (1, 2701899.282661463), (2, 3562.347616135424), (3, 6574483.122166839), (4, 2107.07501660608), (5, 9771.01972354163), (6, 4875088.757420412), (7, 6.213603097211891), (8, 779.0225106346282), (9, 3068.1202337230607)]\n"
       ]
      }
     ],
     "prompt_number": 71
    }
   ],
   "metadata": {}
  }
 ]
}