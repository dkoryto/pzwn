{
 "metadata": {
  "name": "",
  "signature": "sha256:334287bb2e877354af252804007977e7c7ea102b2ba28f36cd279e25c74960ef"
 },
 "nbformat": 3,
 "nbformat_minor": 0,
 "worksheets": [
  {
   "cells": [
    {
     "cell_type": "heading",
     "level": 2,
     "metadata": {},
     "source": [
      "# Modu\u0142y, paczki"
     ]
    }
   ],
   "metadata": {}
  }
 ]
}