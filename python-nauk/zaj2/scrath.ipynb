{
 "metadata": {
  "name": "",
  "signature": "sha256:2d3ce0d2b3a4f6816ab83e6ad39b8d5fbe432c38149269e4fae2e689ebb32203"
 },
 "nbformat": 3,
 "nbformat_minor": 0,
 "worksheets": [
  {
   "cells": [
    {
     "cell_type": "code",
     "collapsed": false,
     "input": [
      "%lsmagic"
     ],
     "language": "python",
     "metadata": {},
     "outputs": [
      {
       "json": [
        "{\"line\": {\"logoff\": \"LoggingMagics\", \"logon\": \"LoggingMagics\", \"rehashx\": \"OSMagics\", \"ldir\": \"Other\", \"whos\": \"NamespaceMagics\", \"connect_info\": \"KernelMagics\", \"debug\": \"ExecutionMagics\", \"page\": \"BasicMagics\", \"edit\": \"KernelMagics\", \"macro\": \"ExecutionMagics\", \"notebook\": \"BasicMagics\", \"load\": \"CodeMagics\", \"doctest_mode\": \"KernelMagics\", \"tb\": \"ExecutionMagics\", \"quickref\": \"BasicMagics\", \"xdel\": \"NamespaceMagics\", \"mv\": \"Other\", \"dhist\": \"OSMagics\", \"sc\": \"OSMagics\", \"load_ext\": \"ExtensionMagics\", \"config\": \"ConfigMagics\", \"install_profiles\": \"DeprecatedMagics\", \"logstop\": \"LoggingMagics\", \"ed\": \"Other\", \"cat\": \"Other\", \"colors\": \"BasicMagics\", \"rep\": \"Other\", \"pdb\": \"ExecutionMagics\", \"save\": \"CodeMagics\", \"magic\": \"BasicMagics\", \"psource\": \"NamespaceMagics\", \"pprint\": \"BasicMagics\", \"run\": \"ExecutionMagics\", \"lf\": \"Other\", \"man\": \"KernelMagics\", \"cd\": \"OSMagics\", \"pwd\": \"OSMagics\", \"history\": \"HistoryMagics\", \"mkdir\": \"Other\", \"autocall\": \"AutoMagics\", \"pinfo2\": \"NamespaceMagics\", \"reset_selective\": \"NamespaceMagics\", \"dirs\": \"OSMagics\", \"timeit\": \"ExecutionMagics\", \"reload_ext\": \"ExtensionMagics\", \"alias_magic\": \"BasicMagics\", \"unalias\": \"OSMagics\", \"ls\": \"Other\", \"matplotlib\": \"PylabMagics\", \"lk\": \"Other\", \"prun\": \"ExecutionMagics\", \"pdoc\": \"NamespaceMagics\", \"alias\": \"OSMagics\", \"killbgscripts\": \"ScriptMagics\", \"popd\": \"OSMagics\", \"env\": \"OSMagics\", \"profile\": \"BasicMagics\", \"autosave\": \"KernelMagics\", \"precision\": \"BasicMagics\", \"pinfo\": \"NamespaceMagics\", \"ll\": \"Other\", \"hist\": \"Other\", \"install_default_config\": \"DeprecatedMagics\", \"psearch\": \"NamespaceMagics\", \"lsmagic\": \"BasicMagics\", \"more\": \"KernelMagics\", \"install_ext\": \"ExtensionMagics\", \"bookmark\": \"OSMagics\", \"loadpy\": \"CodeMagics\", \"time\": \"ExecutionMagics\", \"unload_ext\": \"ExtensionMagics\", \"who_ls\": \"NamespaceMagics\", \"rerun\": \"HistoryMagics\", \"reset\": \"NamespaceMagics\", \"gui\": \"BasicMagics\", \"cp\": \"Other\", \"xmode\": \"BasicMagics\", \"pdef\": \"NamespaceMagics\", \"pfile\": \"NamespaceMagics\", \"pastebin\": \"CodeMagics\", \"clear\": \"KernelMagics\", \"lx\": \"Other\", \"less\": \"KernelMagics\", \"pushd\": \"OSMagics\", \"logstart\": \"LoggingMagics\", \"logstate\": \"LoggingMagics\", \"qtconsole\": \"KernelMagics\", \"store\": \"StoreMagics\", \"who\": \"NamespaceMagics\", \"recall\": \"HistoryMagics\", \"sx\": \"OSMagics\", \"pycat\": \"OSMagics\", \"rmdir\": \"Other\", \"rm\": \"Other\", \"automagic\": \"AutoMagics\", \"pylab\": \"PylabMagics\", \"system\": \"OSMagics\"}, \"cell\": {\"!\": \"OSMagics\", \"debug\": \"ExecutionMagics\", \"time\": \"ExecutionMagics\", \"ruby\": \"Other\", \"capture\": \"ExecutionMagics\", \"prun\": \"ExecutionMagics\", \"file\": \"Other\", \"SVG\": \"Other\", \"perl\": \"Other\", \"javascript\": \"DisplayMagics\", \"bash\": \"Other\", \"python3\": \"Other\", \"svg\": \"DisplayMagics\", \"timeit\": \"ExecutionMagics\", \"python\": \"Other\", \"sh\": \"Other\", \"script\": \"ScriptMagics\", \"sx\": \"OSMagics\", \"writefile\": \"OSMagics\", \"pypy\": \"Other\", \"python2\": \"Other\", \"html\": \"DisplayMagics\", \"latex\": \"DisplayMagics\", \"HTML\": \"Other\", \"system\": \"OSMagics\"}}"
       ],
       "metadata": {},
       "output_type": "pyout",
       "prompt_number": 3,
       "text": [
        "Available line magics:\n",
        "%alias  %alias_magic  %autocall  %automagic  %autosave  %bookmark  %cat  %cd  %clear  %colors  %config  %connect_info  %cp  %debug  %dhist  %dirs  %doctest_mode  %ed  %edit  %env  %gui  %hist  %history  %install_default_config  %install_ext  %install_profiles  %killbgscripts  %ldir  %less  %lf  %lk  %ll  %load  %load_ext  %loadpy  %logoff  %logon  %logstart  %logstate  %logstop  %ls  %lsmagic  %lx  %macro  %magic  %man  %matplotlib  %mkdir  %more  %mv  %notebook  %page  %pastebin  %pdb  %pdef  %pdoc  %pfile  %pinfo  %pinfo2  %popd  %pprint  %precision  %profile  %prun  %psearch  %psource  %pushd  %pwd  %pycat  %pylab  %qtconsole  %quickref  %recall  %rehashx  %reload_ext  %rep  %rerun  %reset  %reset_selective  %rm  %rmdir  %run  %save  %sc  %store  %sx  %system  %tb  %time  %timeit  %unalias  %unload_ext  %who  %who_ls  %whos  %xdel  %xmode\n",
        "\n",
        "Available cell magics:\n",
        "%%!  %%HTML  %%SVG  %%bash  %%capture  %%debug  %%file  %%html  %%javascript  %%latex  %%perl  %%prun  %%pypy  %%python  %%python2  %%python3  %%ruby  %%script  %%sh  %%svg  %%sx  %%system  %%time  %%timeit  %%writefile\n",
        "\n",
        "Automagic is ON, % prefix IS NOT needed for line magics."
       ]
      }
     ],
     "prompt_number": 3
    },
    {
     "cell_type": "code",
     "collapsed": false,
     "input": [
      "import tempfile"
     ],
     "language": "python",
     "metadata": {},
     "outputs": [],
     "prompt_number": 4
    },
    {
     "cell_type": "code",
     "collapsed": false,
     "input": [
      "file = \"/tmp/test.json\""
     ],
     "language": "python",
     "metadata": {},
     "outputs": [],
     "prompt_number": 4
    },
    {
     "cell_type": "code",
     "collapsed": false,
     "input": [
      "with open(file, 'w') as f: \n",
      "    f.write('[')\n",
      "    for ii in range(int(1E8)): \n",
      "        f.write(str(ii))\n",
      "        f.write(',')\n",
      "    f.write('1]')"
     ],
     "language": "python",
     "metadata": {},
     "outputs": [],
     "prompt_number": 31
    },
    {
     "cell_type": "code",
     "collapsed": false,
     "input": [
      "%%bash \n",
      "\n",
      "ls -lah /tmp/test.json"
     ],
     "language": "python",
     "metadata": {},
     "outputs": [
      {
       "output_type": "stream",
       "stream": "stdout",
       "text": [
        "-rw-r--r-- 1 jb jb 848M Sep 28 14:49 /tmp/test.json\n"
       ]
      }
     ],
     "prompt_number": 1
    },
    {
     "cell_type": "code",
     "collapsed": false,
     "input": [
      "import psutil"
     ],
     "language": "python",
     "metadata": {},
     "outputs": [],
     "prompt_number": 5
    },
    {
     "cell_type": "code",
     "collapsed": false,
     "input": [
      "import json \n",
      "\n",
      "used  = psutil.virtual_memory().used\n",
      "loaded = json.load(open(file))\n",
      "print((psutil.virtual_memory().used - used)/(1024*1024))\n",
      "used  = psutil.virtual_memory().used\n",
      "loaded[:]\n",
      "print((psutil.virtual_memory().used - used)/(1024*1024))"
     ],
     "language": "python",
     "metadata": {},
     "outputs": [
      {
       "output_type": "stream",
       "stream": "stdout",
       "text": [
        "3877.1875\n",
        "-0.203125"
       ]
      },
      {
       "output_type": "stream",
       "stream": "stdout",
       "text": [
        "\n"
       ]
      }
     ],
     "prompt_number": 6
    },
    {
     "cell_type": "code",
     "collapsed": false,
     "input": [
      "test_memory_usage()"
     ],
     "language": "python",
     "metadata": {},
     "outputs": [
      {
       "output_type": "stream",
       "stream": "stdout",
       "text": [
        "Filename: <ipython-input-13-25e766737e7d>\n",
        "\n",
        "ERROR: Could not find file <ipython-input-13-25e766737e7d>\n",
        "NOTE: %mprun can only be used on functions defined in physical files, and not in the IPython environment.\n"
       ]
      },
      {
       "output_type": "stream",
       "stream": "stderr",
       "text": [
        "/home/jb/dydakyka/pwzd/python-nauk/venv/lib/python3.4/site-packages/memory_profiler.py:62: UserWarning: psutil module not found. memory_profiler will be slow\n",
        "  warnings.warn(\"psutil module not found. memory_profiler will be slow\")\n"
       ]
      }
     ],
     "prompt_number": 14
    },
    {
     "cell_type": "code",
     "collapsed": false,
     "input": [
      "del loaded"
     ],
     "language": "python",
     "metadata": {},
     "outputs": [],
     "prompt_number": 24
    },
    {
     "cell_type": "code",
     "collapsed": false,
     "input": [],
     "language": "python",
     "metadata": {},
     "outputs": []
    }
   ],
   "metadata": {}
  }
 ]
}