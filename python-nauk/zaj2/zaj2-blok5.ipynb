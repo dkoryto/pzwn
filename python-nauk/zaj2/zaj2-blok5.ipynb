{
 "metadata": {
  "celltoolbar": "Slideshow",
  "name": "",
  "signature": "sha256:af3b2877891219d4bfc2566c9847e43735120f5f24269fec9cd2aafa49cd7e09"
 },
 "nbformat": 3,
 "nbformat_minor": 0,
 "worksheets": [
  {
   "cells": [
    {
     "cell_type": "heading",
     "level": 1,
     "metadata": {
      "slideshow": {
       "slide_type": "slide"
      }
     },
     "source": [
      "Praca z plikami tekstowymi w Pythonie"
     ]
    },
    {
     "cell_type": "heading",
     "level": 2,
     "metadata": {
      "slideshow": {
       "slide_type": "slide"
      }
     },
     "source": [
      "Wst\u0119p"
     ]
    },
    {
     "cell_type": "markdown",
     "metadata": {},
     "source": [
      "* Pierwszym krokiem do analizy danych jest "
     ]
    }
   ],
   "metadata": {}
  }
 ]
}